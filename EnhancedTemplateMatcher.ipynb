{
  "nbformat": 4,
  "nbformat_minor": 0,
  "metadata": {
    "colab": {
      "provenance": [],
      "authorship_tag": "ABX9TyMvfl3YsLE9fhmMtHnPLrSb",
      "include_colab_link": true
    },
    "kernelspec": {
      "name": "python3",
      "display_name": "Python 3"
    },
    "language_info": {
      "name": "python"
    }
  },
  "cells": [
    {
      "cell_type": "markdown",
      "metadata": {
        "id": "view-in-github",
        "colab_type": "text"
      },
      "source": [
        "<a href=\"https://colab.research.google.com/github/mohamedSalehMatar/EnhancedTemplateMatcher/blob/main/EnhancedTemplateMatcher.ipynb\" target=\"_parent\"><img src=\"https://colab.research.google.com/assets/colab-badge.svg\" alt=\"Open In Colab\"/></a>"
      ]
    },
    {
      "cell_type": "code",
      "source": [
        "import cv2\n",
        "import numpy as np\n",
        "from scipy import ndimage\n",
        "from google.colab.patches import cv2_imshow\n",
        "from google.colab import files"
      ],
      "metadata": {
        "id": "nRiuird_5Ds7"
      },
      "execution_count": 9,
      "outputs": []
    },
    {
      "cell_type": "code",
      "source": [
        "# The function works the same as range() function in Python but with float numbers\n",
        "def frange(start, end, step):\n",
        "    current = start\n",
        "    while current < end:\n",
        "        yield current\n",
        "        current += step"
      ],
      "metadata": {
        "id": "bRQ9XGkN9yVt"
      },
      "execution_count": 10,
      "outputs": []
    },
    {
      "cell_type": "code",
      "source": [
        "# Difining the global variable needed\n",
        "best_match = None\n",
        "best_val = -1\n",
        "best_scale = 0.0\n",
        "best_angle = 0.0"
      ],
      "metadata": {
        "id": "-QetWuSY4DNJ"
      },
      "execution_count": 11,
      "outputs": []
    },
    {
      "cell_type": "code",
      "source": [
        "# Upload the template image and gray-scaling it\n",
        "\n",
        "print(\"Upload the template image:\")\n",
        "uploaded = files.upload()\n",
        "template_filename = list(uploaded.keys())[0]\n",
        "t = cv2.imdecode(np.frombuffer(uploaded[template_filename], np.uint8), cv2.IMREAD_UNCHANGED)\n",
        "tg = cv2.cvtColor(t, cv2.COLOR_BGR2GRAY)\n",
        "cv2_imshow(t)\n",
        "\n",
        "# Taking the height and width of the template image\n",
        "h = tg.shape[0]\n",
        "w = tg.shape[1]\n"
      ],
      "metadata": {
        "id": "Ng_k37k74HRx"
      },
      "execution_count": null,
      "outputs": []
    },
    {
      "cell_type": "code",
      "source": [
        "# Loading the main image and gray-scaling it\n",
        "\n",
        "print(\"Upload the main image:\")\n",
        "uploaded = files.upload()\n",
        "main_filename = list(uploaded.keys())[0]\n",
        "m = cv2.imdecode(np.frombuffer(uploaded[main_filename], np.uint8), cv2.IMREAD_UNCHANGED)\n",
        "mg = cv2.cvtColor(m, cv2.COLOR_BGR2GRAY)\n",
        "cv2_imshow(m)"
      ],
      "metadata": {
        "id": "bED75EA_4X1R"
      },
      "execution_count": null,
      "outputs": []
    },
    {
      "cell_type": "code",
      "source": [
        "# A nested for loop the examine all possible template cases to find any possible match\n",
        "\n",
        "# The outer loop interate on the specifyed scale range\n",
        "# Narrowing the scale range lowers the run time but also accuracy\n",
        "for scale in frange(1, 100, 0.5):\n",
        "    print(\"Scale = \", scale)\n",
        "\n",
        "    # Resize the template to the specifyed scale\n",
        "    resized_template = cv2.resize(tg, (int(w * scale), int(h * scale)))\n",
        "\n",
        "    # Checking if the new size of template is less than size of the main image\n",
        "    if resized_template.shape > mg.shape:\n",
        "        break\n",
        "\n",
        "    # The inner loop interate on the specifyed angle range\n",
        "    # Narrowing the angle range lowers the run time but also accuracy\n",
        "    for angle in frange(0, 360, 10):\n",
        "        print(\"Angle = \", angle)\n",
        "\n",
        "        # Rotate the resized template to the specifyed angle\n",
        "        rotated_template = ndimage.rotate(resized_template, angle)\n",
        "\n",
        "        # Checking if the new rotation of template made the width or height exceed the width or height of the main image\n",
        "        if rotated_template.shape[0] > mg.shape[0] or rotated_template.shape[1] > mg.shape[1]:\n",
        "            break\n",
        "\n",
        "        # Ready made function to compare the template to main image\n",
        "        result = cv2.matchTemplate(mg, rotated_template, cv2.TM_CCOEFF_NORMED)\n",
        "\n",
        "        # Ready made function to extract the main values resulted from the template matching\n",
        "        min_val, max_val, min_loc, max_loc = cv2.minMaxLoc(result)\n",
        "        print(\">\", max_val)\n",
        "\n",
        "        # If the score is above the threshold, a match is found\n",
        "        if max_val > best_val:\n",
        "            best_val = max_val\n",
        "            best_match = max_loc\n",
        "            best_scale = scale\n",
        "            best_angle = angle\n",
        "            print(\"==>>\", best_val, best_scale, best_angle)\n",
        "\n",
        "    print(\"---------------------------------\")"
      ],
      "metadata": {
        "id": "bLjQcq7g4oXd"
      },
      "execution_count": null,
      "outputs": []
    },
    {
      "cell_type": "code",
      "source": [
        "print(best_match, best_val, best_scale, best_angle)\n",
        "\n",
        "# Edit the template to have the best scale an angle\n",
        "rt = cv2.resize(tg, (int(w * best_scale), int(h * best_scale)))\n",
        "rotatedt = ndimage.rotate(rt, best_angle)"
      ],
      "metadata": {
        "id": "G_kb51LgCNVY"
      },
      "execution_count": null,
      "outputs": []
    },
    {
      "cell_type": "code",
      "source": [
        "# Calculating the new width and height of the template\n",
        "\n",
        "scaled_h = int(h * best_scale)\n",
        "scaled_w = int(w * best_scale)\n",
        "\n",
        "# print results\n",
        "print(\"Old width and height:\", w, h)\n",
        "print(\"Rescale width and height:\", scaled_w, scaled_h)"
      ],
      "metadata": {
        "id": "v3w9_ISdEGc-"
      },
      "execution_count": null,
      "outputs": []
    },
    {
      "cell_type": "code",
      "source": [
        "# Seaching for multiple instances of the template in the main image\n",
        "res = cv2.matchTemplate(mg, rotatedt, cv2.TM_CCOEFF_NORMED)\n",
        "\n",
        "# Store the coordinates of matched areas in a array\n",
        "loc = np.where(res >= 0.99)\n",
        "\n",
        "# Draw a rectangle around every matched region.\n",
        "for pt in zip(*loc[::-1]):\n",
        "    print(pt)\n",
        "    cv2.rectangle(m, pt, (int((pt[0] + scaled_w)), int((pt[1] + scaled_h))), (0, 0, 0), 2)\n",
        "\n",
        "# Show the final image with the matched areas.\n",
        "cv2_imshow(m)"
      ],
      "metadata": {
        "id": "047CzXtG4cEN"
      },
      "execution_count": null,
      "outputs": []
    }
  ]
}